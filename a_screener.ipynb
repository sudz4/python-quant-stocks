{
 "cells": [
  {
   "attachments": {},
   "cell_type": "markdown",
   "metadata": {},
   "source": [
    "| Stock Screener | Tool |\n",
    "| ----------- | ----------- |"
   ]
  },
  {
   "cell_type": "code",
   "execution_count": null,
   "metadata": {},
   "outputs": [],
   "source": [
    "import pandas as pd\n",
    "import numpy as np\n",
    "import pandas_datareader as web\n",
    "import matplotlib.pyplot as plt\n",
    "import datetime as dt\n",
    "import math\n",
    "\n",
    "# yahoo finance sometimes changes things up with the api\n",
    "# stay up to date or current, don't be alarmed if an error\n",
    "import yfinance as yf\n",
    "from yahoo_fin import stock_info as si \n",
    "import requests\n",
    "\n",
    "# import api connection libs\n",
    "import os\n",
    "import iexfinance\n",
    "\n",
    "# IMPORTANT! the package has been updated.\n",
    "# import the get_historical_data() function as follows\n",
    "from iexfinance.stocks import get_historical_data\n",
    "\n",
    "# import conifg file\n",
    "from a_config import IEX_CLOUD_API_KEY\n",
    "\n",
    "# verify pandas version\n",
    "print(pd.__version__)\n"
   ]
  },
  {
   "cell_type": "code",
   "execution_count": 5,
   "metadata": {},
   "outputs": [],
   "source": [
    "# set start and end dates\n",
    "start_date = '2022-04-04'\n",
    "end_date = dt.datetime.now().strftime('%Y-%m-%d') # IMPORTANT - converts time to readable format"
   ]
  },
  {
   "cell_type": "code",
   "execution_count": null,
   "metadata": {},
   "outputs": [],
   "source": [
    "# yahoo finance api\n",
    "tsla = yf.Ticker('TSLA')\n",
    "tesla_info = tsla.info\n",
    "print(tesla_info)"
   ]
  },
  {
   "cell_type": "code",
   "execution_count": 6,
   "metadata": {},
   "outputs": [
    {
     "data": {
      "text/html": [
       "<div>\n",
       "<style scoped>\n",
       "    .dataframe tbody tr th:only-of-type {\n",
       "        vertical-align: middle;\n",
       "    }\n",
       "\n",
       "    .dataframe tbody tr th {\n",
       "        vertical-align: top;\n",
       "    }\n",
       "\n",
       "    .dataframe thead th {\n",
       "        text-align: right;\n",
       "    }\n",
       "</style>\n",
       "<table border=\"1\" class=\"dataframe\">\n",
       "  <thead>\n",
       "    <tr style=\"text-align: right;\">\n",
       "      <th></th>\n",
       "      <th>Open</th>\n",
       "      <th>High</th>\n",
       "      <th>Low</th>\n",
       "      <th>Close</th>\n",
       "      <th>Volume</th>\n",
       "      <th>Dividends</th>\n",
       "      <th>Stock Splits</th>\n",
       "    </tr>\n",
       "    <tr>\n",
       "      <th>Date</th>\n",
       "      <th></th>\n",
       "      <th></th>\n",
       "      <th></th>\n",
       "      <th></th>\n",
       "      <th></th>\n",
       "      <th></th>\n",
       "      <th></th>\n",
       "    </tr>\n",
       "  </thead>\n",
       "  <tbody>\n",
       "    <tr>\n",
       "      <th>2022-04-04 00:00:00-04:00</th>\n",
       "      <td>363.126678</td>\n",
       "      <td>383.303345</td>\n",
       "      <td>357.510010</td>\n",
       "      <td>381.816681</td>\n",
       "      <td>82035900</td>\n",
       "      <td>0.0</td>\n",
       "      <td>0.0</td>\n",
       "    </tr>\n",
       "    <tr>\n",
       "      <th>2022-04-05 00:00:00-04:00</th>\n",
       "      <td>378.766663</td>\n",
       "      <td>384.290009</td>\n",
       "      <td>362.433319</td>\n",
       "      <td>363.753326</td>\n",
       "      <td>80075100</td>\n",
       "      <td>0.0</td>\n",
       "      <td>0.0</td>\n",
       "    </tr>\n",
       "    <tr>\n",
       "      <th>2022-04-06 00:00:00-04:00</th>\n",
       "      <td>357.823334</td>\n",
       "      <td>359.666656</td>\n",
       "      <td>342.566681</td>\n",
       "      <td>348.586670</td>\n",
       "      <td>89348400</td>\n",
       "      <td>0.0</td>\n",
       "      <td>0.0</td>\n",
       "    </tr>\n",
       "    <tr>\n",
       "      <th>2022-04-07 00:00:00-04:00</th>\n",
       "      <td>350.796661</td>\n",
       "      <td>358.863342</td>\n",
       "      <td>340.513336</td>\n",
       "      <td>352.420013</td>\n",
       "      <td>79447200</td>\n",
       "      <td>0.0</td>\n",
       "      <td>0.0</td>\n",
       "    </tr>\n",
       "    <tr>\n",
       "      <th>2022-04-08 00:00:00-04:00</th>\n",
       "      <td>347.736664</td>\n",
       "      <td>349.480011</td>\n",
       "      <td>340.813324</td>\n",
       "      <td>341.829987</td>\n",
       "      <td>55013700</td>\n",
       "      <td>0.0</td>\n",
       "      <td>0.0</td>\n",
       "    </tr>\n",
       "  </tbody>\n",
       "</table>\n",
       "</div>"
      ],
      "text/plain": [
       "                                 Open        High         Low       Close  \\\n",
       "Date                                                                        \n",
       "2022-04-04 00:00:00-04:00  363.126678  383.303345  357.510010  381.816681   \n",
       "2022-04-05 00:00:00-04:00  378.766663  384.290009  362.433319  363.753326   \n",
       "2022-04-06 00:00:00-04:00  357.823334  359.666656  342.566681  348.586670   \n",
       "2022-04-07 00:00:00-04:00  350.796661  358.863342  340.513336  352.420013   \n",
       "2022-04-08 00:00:00-04:00  347.736664  349.480011  340.813324  341.829987   \n",
       "\n",
       "                             Volume  Dividends  Stock Splits  \n",
       "Date                                                          \n",
       "2022-04-04 00:00:00-04:00  82035900        0.0           0.0  \n",
       "2022-04-05 00:00:00-04:00  80075100        0.0           0.0  \n",
       "2022-04-06 00:00:00-04:00  89348400        0.0           0.0  \n",
       "2022-04-07 00:00:00-04:00  79447200        0.0           0.0  \n",
       "2022-04-08 00:00:00-04:00  55013700        0.0           0.0  "
      ]
     },
     "execution_count": 6,
     "metadata": {},
     "output_type": "execute_result"
    }
   ],
   "source": [
    "# yahoo finance -> get historical data\n",
    "tsla_hist= tsla.history(start=start_date, end=end_date)\n",
    "\n",
    "tsla_hist.head(5)"
   ]
  },
  {
   "cell_type": "code",
   "execution_count": null,
   "metadata": {},
   "outputs": [],
   "source": [
    "# replicate above for NASDAQ"
   ]
  },
  {
   "cell_type": "code",
   "execution_count": null,
   "metadata": {},
   "outputs": [],
   "source": []
  },
  {
   "cell_type": "code",
   "execution_count": null,
   "metadata": {},
   "outputs": [],
   "source": []
  },
  {
   "cell_type": "code",
   "execution_count": 33,
   "metadata": {},
   "outputs": [
    {
     "data": {
      "text/html": [
       "<div>\n",
       "<style scoped>\n",
       "    .dataframe tbody tr th:only-of-type {\n",
       "        vertical-align: middle;\n",
       "    }\n",
       "\n",
       "    .dataframe tbody tr th {\n",
       "        vertical-align: top;\n",
       "    }\n",
       "\n",
       "    .dataframe thead th {\n",
       "        text-align: right;\n",
       "    }\n",
       "</style>\n",
       "<table border=\"1\" class=\"dataframe\">\n",
       "  <thead>\n",
       "    <tr style=\"text-align: right;\">\n",
       "      <th></th>\n",
       "      <th>Open</th>\n",
       "      <th>High</th>\n",
       "      <th>Low</th>\n",
       "      <th>Close</th>\n",
       "      <th>Volume</th>\n",
       "      <th>Dividends</th>\n",
       "      <th>Stock Splits</th>\n",
       "    </tr>\n",
       "    <tr>\n",
       "      <th>Date</th>\n",
       "      <th></th>\n",
       "      <th></th>\n",
       "      <th></th>\n",
       "      <th></th>\n",
       "      <th></th>\n",
       "      <th></th>\n",
       "      <th></th>\n",
       "    </tr>\n",
       "  </thead>\n",
       "  <tbody>\n",
       "    <tr>\n",
       "      <th>2022-12-28 00:00:00-05:00</th>\n",
       "      <td>10339.200195</td>\n",
       "      <td>10414.820312</td>\n",
       "      <td>10207.469727</td>\n",
       "      <td>10213.290039</td>\n",
       "      <td>3842970000</td>\n",
       "      <td>0.0</td>\n",
       "      <td>0.0</td>\n",
       "    </tr>\n",
       "    <tr>\n",
       "      <th>2022-12-29 00:00:00-05:00</th>\n",
       "      <td>10321.459961</td>\n",
       "      <td>10502.080078</td>\n",
       "      <td>10301.059570</td>\n",
       "      <td>10478.089844</td>\n",
       "      <td>4154100000</td>\n",
       "      <td>0.0</td>\n",
       "      <td>0.0</td>\n",
       "    </tr>\n",
       "    <tr>\n",
       "      <th>2022-12-30 00:00:00-05:00</th>\n",
       "      <td>10368.370117</td>\n",
       "      <td>10468.309570</td>\n",
       "      <td>10324.700195</td>\n",
       "      <td>10466.480469</td>\n",
       "      <td>3959030000</td>\n",
       "      <td>0.0</td>\n",
       "      <td>0.0</td>\n",
       "    </tr>\n",
       "  </tbody>\n",
       "</table>\n",
       "</div>"
      ],
      "text/plain": [
       "                                   Open          High           Low  \\\n",
       "Date                                                                  \n",
       "2022-12-28 00:00:00-05:00  10339.200195  10414.820312  10207.469727   \n",
       "2022-12-29 00:00:00-05:00  10321.459961  10502.080078  10301.059570   \n",
       "2022-12-30 00:00:00-05:00  10368.370117  10468.309570  10324.700195   \n",
       "\n",
       "                                  Close      Volume  Dividends  Stock Splits  \n",
       "Date                                                                          \n",
       "2022-12-28 00:00:00-05:00  10213.290039  3842970000        0.0           0.0  \n",
       "2022-12-29 00:00:00-05:00  10478.089844  4154100000        0.0           0.0  \n",
       "2022-12-30 00:00:00-05:00  10466.480469  3959030000        0.0           0.0  "
      ]
     },
     "execution_count": 33,
     "metadata": {},
     "output_type": "execute_result"
    }
   ],
   "source": [
    "# get nasdaq data\n",
    "nasdaq = yf.Ticker('^IXIC')\n",
    "nasdaq_info = nasdaq.info\n",
    "# print(nasdaq_info)\n",
    "\n",
    "nasdaq_hist = nasdaq.history(start=start_date, end=end_date) # more precise but not flexible\n",
    "\n",
    "nasdaq_hist.tail(3)"
   ]
  },
  {
   "cell_type": "code",
   "execution_count": 34,
   "metadata": {},
   "outputs": [
    {
     "data": {
      "text/html": [
       "<div>\n",
       "<style scoped>\n",
       "    .dataframe tbody tr th:only-of-type {\n",
       "        vertical-align: middle;\n",
       "    }\n",
       "\n",
       "    .dataframe tbody tr th {\n",
       "        vertical-align: top;\n",
       "    }\n",
       "\n",
       "    .dataframe thead th {\n",
       "        text-align: right;\n",
       "    }\n",
       "</style>\n",
       "<table border=\"1\" class=\"dataframe\">\n",
       "  <thead>\n",
       "    <tr style=\"text-align: right;\">\n",
       "      <th></th>\n",
       "      <th>Open</th>\n",
       "      <th>High</th>\n",
       "      <th>Low</th>\n",
       "      <th>Close</th>\n",
       "      <th>Volume</th>\n",
       "      <th>Dividends</th>\n",
       "      <th>Stock Splits</th>\n",
       "      <th>%CHG</th>\n",
       "    </tr>\n",
       "    <tr>\n",
       "      <th>Date</th>\n",
       "      <th></th>\n",
       "      <th></th>\n",
       "      <th></th>\n",
       "      <th></th>\n",
       "      <th></th>\n",
       "      <th></th>\n",
       "      <th></th>\n",
       "      <th></th>\n",
       "    </tr>\n",
       "  </thead>\n",
       "  <tbody>\n",
       "    <tr>\n",
       "      <th>2022-12-23 00:00:00-05:00</th>\n",
       "      <td>10437.750000</td>\n",
       "      <td>10514.759766</td>\n",
       "      <td>10361.820312</td>\n",
       "      <td>10497.860352</td>\n",
       "      <td>3544680000</td>\n",
       "      <td>0.0</td>\n",
       "      <td>0.0</td>\n",
       "      <td>0.002075</td>\n",
       "    </tr>\n",
       "    <tr>\n",
       "      <th>2022-12-27 00:00:00-05:00</th>\n",
       "      <td>10462.190430</td>\n",
       "      <td>10472.320312</td>\n",
       "      <td>10340.730469</td>\n",
       "      <td>10353.230469</td>\n",
       "      <td>3827290000</td>\n",
       "      <td>0.0</td>\n",
       "      <td>0.0</td>\n",
       "      <td>-0.013777</td>\n",
       "    </tr>\n",
       "    <tr>\n",
       "      <th>2022-12-28 00:00:00-05:00</th>\n",
       "      <td>10339.200195</td>\n",
       "      <td>10414.820312</td>\n",
       "      <td>10207.469727</td>\n",
       "      <td>10213.290039</td>\n",
       "      <td>3842970000</td>\n",
       "      <td>0.0</td>\n",
       "      <td>0.0</td>\n",
       "      <td>-0.013517</td>\n",
       "    </tr>\n",
       "    <tr>\n",
       "      <th>2022-12-29 00:00:00-05:00</th>\n",
       "      <td>10321.459961</td>\n",
       "      <td>10502.080078</td>\n",
       "      <td>10301.059570</td>\n",
       "      <td>10478.089844</td>\n",
       "      <td>4154100000</td>\n",
       "      <td>0.0</td>\n",
       "      <td>0.0</td>\n",
       "      <td>0.025927</td>\n",
       "    </tr>\n",
       "    <tr>\n",
       "      <th>2022-12-30 00:00:00-05:00</th>\n",
       "      <td>10368.370117</td>\n",
       "      <td>10468.309570</td>\n",
       "      <td>10324.700195</td>\n",
       "      <td>10466.480469</td>\n",
       "      <td>3959030000</td>\n",
       "      <td>0.0</td>\n",
       "      <td>0.0</td>\n",
       "      <td>-0.001108</td>\n",
       "    </tr>\n",
       "  </tbody>\n",
       "</table>\n",
       "</div>"
      ],
      "text/plain": [
       "                                   Open          High           Low  \\\n",
       "Date                                                                  \n",
       "2022-12-23 00:00:00-05:00  10437.750000  10514.759766  10361.820312   \n",
       "2022-12-27 00:00:00-05:00  10462.190430  10472.320312  10340.730469   \n",
       "2022-12-28 00:00:00-05:00  10339.200195  10414.820312  10207.469727   \n",
       "2022-12-29 00:00:00-05:00  10321.459961  10502.080078  10301.059570   \n",
       "2022-12-30 00:00:00-05:00  10368.370117  10468.309570  10324.700195   \n",
       "\n",
       "                                  Close      Volume  Dividends  Stock Splits  \\\n",
       "Date                                                                           \n",
       "2022-12-23 00:00:00-05:00  10497.860352  3544680000        0.0           0.0   \n",
       "2022-12-27 00:00:00-05:00  10353.230469  3827290000        0.0           0.0   \n",
       "2022-12-28 00:00:00-05:00  10213.290039  3842970000        0.0           0.0   \n",
       "2022-12-29 00:00:00-05:00  10478.089844  4154100000        0.0           0.0   \n",
       "2022-12-30 00:00:00-05:00  10466.480469  3959030000        0.0           0.0   \n",
       "\n",
       "                               %CHG  \n",
       "Date                                 \n",
       "2022-12-23 00:00:00-05:00  0.002075  \n",
       "2022-12-27 00:00:00-05:00 -0.013777  \n",
       "2022-12-28 00:00:00-05:00 -0.013517  \n",
       "2022-12-29 00:00:00-05:00  0.025927  \n",
       "2022-12-30 00:00:00-05:00 -0.001108  "
      ]
     },
     "execution_count": 34,
     "metadata": {},
     "output_type": "execute_result"
    }
   ],
   "source": [
    "# calculate percent change\n",
    "nasdaq_df['%CHG'] = nasdaq_df['Close'].pct_change()\n",
    "# calculate the return\n",
    "nasdaq_return = (nasdaq_df['%CHG']+1).cumprod()[-1]# take the last value [-1] which is the final return\n",
    "\n",
    "nasdaq_df.tail()"
   ]
  },
  {
   "cell_type": "code",
   "execution_count": null,
   "metadata": {},
   "outputs": [],
   "source": [
    "symbol = 'TSLA'\n",
    "# get ticker historical data\n",
    "hist_data = get_historical_data(symbol, \n",
    "    start=start_date, \n",
    "    end=end_date, \n",
    "    output_format='pandas',\n",
    "    token=IEX_CLOUD_API_KEY)"
   ]
  },
  {
   "cell_type": "code",
   "execution_count": null,
   "metadata": {},
   "outputs": [],
   "source": [
    "# get a list of all the nasdaq stocks\n",
    "tickers = si.tickers_nasdaq()\n",
    "\n",
    "tickers[:5]\n",
    "sm_tickers = tickers[50:60]\n",
    "\n",
    "sm_tickers"
   ]
  },
  {
   "cell_type": "code",
   "execution_count": 26,
   "metadata": {},
   "outputs": [],
   "source": [
    "# create an empty list\n",
    "ticker_data_list = []\n",
    "\n",
    "for ticker in sm_tickers:\n",
    "    try:\n",
    "        hist_data = get_historical_data(ticker, \n",
    "        start=start_date, \n",
    "        end=end_date, \n",
    "        output_format='pandas',\n",
    "        token=IEX_CLOUD_API_KEY)\n",
    "        # add data to the list\n",
    "        ticker_data_list.append(hist_data)\n",
    "    except Exception as e:\n",
    "        print(f\"Error processing ticker {ticker}: {e}\")\n",
    "        continue"
   ]
  },
  {
   "cell_type": "code",
   "execution_count": 29,
   "metadata": {},
   "outputs": [
    {
     "data": {
      "text/html": [
       "<div>\n",
       "<style scoped>\n",
       "    .dataframe tbody tr th:only-of-type {\n",
       "        vertical-align: middle;\n",
       "    }\n",
       "\n",
       "    .dataframe tbody tr th {\n",
       "        vertical-align: top;\n",
       "    }\n",
       "\n",
       "    .dataframe thead th {\n",
       "        text-align: right;\n",
       "    }\n",
       "</style>\n",
       "<table border=\"1\" class=\"dataframe\">\n",
       "  <thead>\n",
       "    <tr style=\"text-align: right;\">\n",
       "      <th></th>\n",
       "      <th>close</th>\n",
       "      <th>high</th>\n",
       "      <th>low</th>\n",
       "      <th>open</th>\n",
       "      <th>symbol</th>\n",
       "      <th>volume</th>\n",
       "      <th>id</th>\n",
       "      <th>key</th>\n",
       "      <th>subkey</th>\n",
       "      <th>updated</th>\n",
       "      <th>...</th>\n",
       "      <th>uVolume</th>\n",
       "      <th>fOpen</th>\n",
       "      <th>fClose</th>\n",
       "      <th>fHigh</th>\n",
       "      <th>fLow</th>\n",
       "      <th>fVolume</th>\n",
       "      <th>label</th>\n",
       "      <th>change</th>\n",
       "      <th>changePercent</th>\n",
       "      <th>priceDate</th>\n",
       "    </tr>\n",
       "  </thead>\n",
       "  <tbody>\n",
       "    <tr>\n",
       "      <th>2022-12-28</th>\n",
       "      <td>8.1</td>\n",
       "      <td>8.21</td>\n",
       "      <td>7.72</td>\n",
       "      <td>7.72</td>\n",
       "      <td>ACET</td>\n",
       "      <td>523211</td>\n",
       "      <td>HISTORICAL_PRICES</td>\n",
       "      <td>ACET</td>\n",
       "      <td></td>\n",
       "      <td>1672281205000</td>\n",
       "      <td>...</td>\n",
       "      <td>157117</td>\n",
       "      <td>78.36</td>\n",
       "      <td>77.38</td>\n",
       "      <td>79.73</td>\n",
       "      <td>77.06</td>\n",
       "      <td>157117</td>\n",
       "      <td>Dec 28, 22</td>\n",
       "      <td>-1.84</td>\n",
       "      <td>-0.0232</td>\n",
       "      <td>2022-12-28</td>\n",
       "    </tr>\n",
       "    <tr>\n",
       "      <th>2022-12-29</th>\n",
       "      <td>8.55</td>\n",
       "      <td>8.76</td>\n",
       "      <td>8</td>\n",
       "      <td>8.17</td>\n",
       "      <td>ACET</td>\n",
       "      <td>636677</td>\n",
       "      <td>HISTORICAL_PRICES</td>\n",
       "      <td>ACET</td>\n",
       "      <td></td>\n",
       "      <td>1672365626000</td>\n",
       "      <td>...</td>\n",
       "      <td>211716</td>\n",
       "      <td>78.76</td>\n",
       "      <td>79.37</td>\n",
       "      <td>80.21</td>\n",
       "      <td>78.67</td>\n",
       "      <td>211716</td>\n",
       "      <td>Dec 29, 22</td>\n",
       "      <td>1.99</td>\n",
       "      <td>0.0257</td>\n",
       "      <td>2022-12-29</td>\n",
       "    </tr>\n",
       "    <tr>\n",
       "      <th>2022-12-30</th>\n",
       "      <td>8.94</td>\n",
       "      <td>8.94</td>\n",
       "      <td>8.4</td>\n",
       "      <td>8.45</td>\n",
       "      <td>ACET</td>\n",
       "      <td>446608</td>\n",
       "      <td>HISTORICAL_PRICES</td>\n",
       "      <td>ACET</td>\n",
       "      <td></td>\n",
       "      <td>1672468409000</td>\n",
       "      <td>...</td>\n",
       "      <td>230069</td>\n",
       "      <td>78.05</td>\n",
       "      <td>79.36</td>\n",
       "      <td>79.49</td>\n",
       "      <td>77</td>\n",
       "      <td>230069</td>\n",
       "      <td>Dec 30, 22</td>\n",
       "      <td>-0.01</td>\n",
       "      <td>-0.0001</td>\n",
       "      <td>2022-12-30</td>\n",
       "    </tr>\n",
       "    <tr>\n",
       "      <th>2023-01-03</th>\n",
       "      <td>8.57</td>\n",
       "      <td>9.25</td>\n",
       "      <td>8.4</td>\n",
       "      <td>9.03</td>\n",
       "      <td>ACET</td>\n",
       "      <td>464158</td>\n",
       "      <td>HISTORICAL_PRICES</td>\n",
       "      <td>ACET</td>\n",
       "      <td></td>\n",
       "      <td>1672799429000</td>\n",
       "      <td>...</td>\n",
       "      <td>375566</td>\n",
       "      <td>80.68</td>\n",
       "      <td>78.2</td>\n",
       "      <td>81.28</td>\n",
       "      <td>76.97</td>\n",
       "      <td>375566</td>\n",
       "      <td>Jan 3, 23</td>\n",
       "      <td>-1.16</td>\n",
       "      <td>-0.0146</td>\n",
       "      <td>2023-01-03</td>\n",
       "    </tr>\n",
       "  </tbody>\n",
       "</table>\n",
       "<p>4 rows × 260 columns</p>\n",
       "</div>"
      ],
      "text/plain": [
       "           close  high   low  open symbol  volume                 id   key  \\\n",
       "2022-12-28   8.1  8.21  7.72  7.72   ACET  523211  HISTORICAL_PRICES  ACET   \n",
       "2022-12-29  8.55  8.76     8  8.17   ACET  636677  HISTORICAL_PRICES  ACET   \n",
       "2022-12-30  8.94  8.94   8.4  8.45   ACET  446608  HISTORICAL_PRICES  ACET   \n",
       "2023-01-03  8.57  9.25   8.4  9.03   ACET  464158  HISTORICAL_PRICES  ACET   \n",
       "\n",
       "           subkey        updated  ... uVolume  fOpen fClose  fHigh   fLow  \\\n",
       "2022-12-28         1672281205000  ...  157117  78.36  77.38  79.73  77.06   \n",
       "2022-12-29         1672365626000  ...  211716  78.76  79.37  80.21  78.67   \n",
       "2022-12-30         1672468409000  ...  230069  78.05  79.36  79.49     77   \n",
       "2023-01-03         1672799429000  ...  375566  80.68   78.2  81.28  76.97   \n",
       "\n",
       "           fVolume       label change changePercent   priceDate  \n",
       "2022-12-28  157117  Dec 28, 22  -1.84       -0.0232  2022-12-28  \n",
       "2022-12-29  211716  Dec 29, 22   1.99        0.0257  2022-12-29  \n",
       "2022-12-30  230069  Dec 30, 22  -0.01       -0.0001  2022-12-30  \n",
       "2023-01-03  375566   Jan 3, 23  -1.16       -0.0146  2023-01-03  \n",
       "\n",
       "[4 rows x 260 columns]"
      ]
     },
     "execution_count": 29,
     "metadata": {},
     "output_type": "execute_result"
    }
   ],
   "source": [
    "# concatenate the data into a single dataframe\n",
    "final_df = pd.concat(ticker_data_list, axis=1)\n",
    "\n",
    "# final_df.head(4)\n",
    "final_df.tail(4)"
   ]
  },
  {
   "cell_type": "code",
   "execution_count": null,
   "metadata": {},
   "outputs": [],
   "source": [
    "# create a multi-index\n"
   ]
  },
  {
   "cell_type": "code",
   "execution_count": null,
   "metadata": {},
   "outputs": [],
   "source": []
  },
  {
   "cell_type": "code",
   "execution_count": 20,
   "metadata": {},
   "outputs": [],
   "source": [
    "# # create an empty dictionary?\n",
    "# ticker_data = {}\n",
    "# for ticker in sm_tickers:\n",
    "#     try:\n",
    "#         ticker_data[ticker] = get_historical_data(ticker, \n",
    "#         start=start_date, \n",
    "#         end=end_date, \n",
    "#         output_format='pandas',\n",
    "#         token=IEX_CLOUD_API_KEY)\n",
    "#     except Exception as e:\n",
    "#         print(f\"Error processing ticker {ticker}: {e}\")\n",
    "#         continue"
   ]
  },
  {
   "cell_type": "code",
   "execution_count": null,
   "metadata": {},
   "outputs": [],
   "source": [
    "pd.DataFrame.from_dict(ticker_data, orient='columns')"
   ]
  },
  {
   "cell_type": "code",
   "execution_count": null,
   "metadata": {},
   "outputs": [],
   "source": []
  },
  {
   "cell_type": "code",
   "execution_count": null,
   "metadata": {},
   "outputs": [],
   "source": []
  },
  {
   "cell_type": "code",
   "execution_count": null,
   "metadata": {},
   "outputs": [],
   "source": []
  },
  {
   "cell_type": "code",
   "execution_count": null,
   "metadata": {},
   "outputs": [],
   "source": []
  },
  {
   "cell_type": "code",
   "execution_count": 24,
   "metadata": {},
   "outputs": [
    {
     "ename": "ValueError",
     "evalue": "If using all scalar values, you must pass an index",
     "output_type": "error",
     "traceback": [
      "\u001b[0;31m---------------------------------------------------------------------------\u001b[0m",
      "\u001b[0;31mValueError\u001b[0m                                Traceback (most recent call last)",
      "Cell \u001b[0;32mIn[24], line 1\u001b[0m\n\u001b[0;32m----> 1\u001b[0m hist_data_df \u001b[39m=\u001b[39m pd\u001b[39m.\u001b[39;49mDataFrame\u001b[39m.\u001b[39;49mfrom_dict(ticker_data)\n\u001b[1;32m      3\u001b[0m hist_data_df\u001b[39m.\u001b[39mhead(\u001b[39m4\u001b[39m)\n",
      "File \u001b[0;32m~/Desktop/python_QUANT/QUANT_venv/lib/python3.11/site-packages/pandas/core/frame.py:1763\u001b[0m, in \u001b[0;36mDataFrame.from_dict\u001b[0;34m(cls, data, orient, dtype, columns)\u001b[0m\n\u001b[1;32m   1757\u001b[0m     \u001b[39mraise\u001b[39;00m \u001b[39mValueError\u001b[39;00m(\n\u001b[1;32m   1758\u001b[0m         \u001b[39mf\u001b[39m\u001b[39m\"\u001b[39m\u001b[39mExpected \u001b[39m\u001b[39m'\u001b[39m\u001b[39mindex\u001b[39m\u001b[39m'\u001b[39m\u001b[39m, \u001b[39m\u001b[39m'\u001b[39m\u001b[39mcolumns\u001b[39m\u001b[39m'\u001b[39m\u001b[39m or \u001b[39m\u001b[39m'\u001b[39m\u001b[39mtight\u001b[39m\u001b[39m'\u001b[39m\u001b[39m for orient parameter. \u001b[39m\u001b[39m\"\u001b[39m\n\u001b[1;32m   1759\u001b[0m         \u001b[39mf\u001b[39m\u001b[39m\"\u001b[39m\u001b[39mGot \u001b[39m\u001b[39m'\u001b[39m\u001b[39m{\u001b[39;00morient\u001b[39m}\u001b[39;00m\u001b[39m'\u001b[39m\u001b[39m instead\u001b[39m\u001b[39m\"\u001b[39m\n\u001b[1;32m   1760\u001b[0m     )\n\u001b[1;32m   1762\u001b[0m \u001b[39mif\u001b[39;00m orient \u001b[39m!=\u001b[39m \u001b[39m\"\u001b[39m\u001b[39mtight\u001b[39m\u001b[39m\"\u001b[39m:\n\u001b[0;32m-> 1763\u001b[0m     \u001b[39mreturn\u001b[39;00m \u001b[39mcls\u001b[39;49m(data, index\u001b[39m=\u001b[39;49mindex, columns\u001b[39m=\u001b[39;49mcolumns, dtype\u001b[39m=\u001b[39;49mdtype)\n\u001b[1;32m   1764\u001b[0m \u001b[39melse\u001b[39;00m:\n\u001b[1;32m   1765\u001b[0m     realdata \u001b[39m=\u001b[39m data[\u001b[39m\"\u001b[39m\u001b[39mdata\u001b[39m\u001b[39m\"\u001b[39m]\n",
      "File \u001b[0;32m~/Desktop/python_QUANT/QUANT_venv/lib/python3.11/site-packages/pandas/core/frame.py:663\u001b[0m, in \u001b[0;36mDataFrame.__init__\u001b[0;34m(self, data, index, columns, dtype, copy)\u001b[0m\n\u001b[1;32m    657\u001b[0m     mgr \u001b[39m=\u001b[39m \u001b[39mself\u001b[39m\u001b[39m.\u001b[39m_init_mgr(\n\u001b[1;32m    658\u001b[0m         data, axes\u001b[39m=\u001b[39m{\u001b[39m\"\u001b[39m\u001b[39mindex\u001b[39m\u001b[39m\"\u001b[39m: index, \u001b[39m\"\u001b[39m\u001b[39mcolumns\u001b[39m\u001b[39m\"\u001b[39m: columns}, dtype\u001b[39m=\u001b[39mdtype, copy\u001b[39m=\u001b[39mcopy\n\u001b[1;32m    659\u001b[0m     )\n\u001b[1;32m    661\u001b[0m \u001b[39melif\u001b[39;00m \u001b[39misinstance\u001b[39m(data, \u001b[39mdict\u001b[39m):\n\u001b[1;32m    662\u001b[0m     \u001b[39m# GH#38939 de facto copy defaults to False only in non-dict cases\u001b[39;00m\n\u001b[0;32m--> 663\u001b[0m     mgr \u001b[39m=\u001b[39m dict_to_mgr(data, index, columns, dtype\u001b[39m=\u001b[39;49mdtype, copy\u001b[39m=\u001b[39;49mcopy, typ\u001b[39m=\u001b[39;49mmanager)\n\u001b[1;32m    664\u001b[0m \u001b[39melif\u001b[39;00m \u001b[39misinstance\u001b[39m(data, ma\u001b[39m.\u001b[39mMaskedArray):\n\u001b[1;32m    665\u001b[0m     \u001b[39mimport\u001b[39;00m \u001b[39mnumpy\u001b[39;00m\u001b[39m.\u001b[39;00m\u001b[39mma\u001b[39;00m\u001b[39m.\u001b[39;00m\u001b[39mmrecords\u001b[39;00m \u001b[39mas\u001b[39;00m \u001b[39mmrecords\u001b[39;00m\n",
      "File \u001b[0;32m~/Desktop/python_QUANT/QUANT_venv/lib/python3.11/site-packages/pandas/core/internals/construction.py:493\u001b[0m, in \u001b[0;36mdict_to_mgr\u001b[0;34m(data, index, columns, dtype, typ, copy)\u001b[0m\n\u001b[1;32m    489\u001b[0m     \u001b[39melse\u001b[39;00m:\n\u001b[1;32m    490\u001b[0m         \u001b[39m# dtype check to exclude e.g. range objects, scalars\u001b[39;00m\n\u001b[1;32m    491\u001b[0m         arrays \u001b[39m=\u001b[39m [x\u001b[39m.\u001b[39mcopy() \u001b[39mif\u001b[39;00m \u001b[39mhasattr\u001b[39m(x, \u001b[39m\"\u001b[39m\u001b[39mdtype\u001b[39m\u001b[39m\"\u001b[39m) \u001b[39melse\u001b[39;00m x \u001b[39mfor\u001b[39;00m x \u001b[39min\u001b[39;00m arrays]\n\u001b[0;32m--> 493\u001b[0m \u001b[39mreturn\u001b[39;00m arrays_to_mgr(arrays, columns, index, dtype\u001b[39m=\u001b[39;49mdtype, typ\u001b[39m=\u001b[39;49mtyp, consolidate\u001b[39m=\u001b[39;49mcopy)\n",
      "File \u001b[0;32m~/Desktop/python_QUANT/QUANT_venv/lib/python3.11/site-packages/pandas/core/internals/construction.py:118\u001b[0m, in \u001b[0;36marrays_to_mgr\u001b[0;34m(arrays, columns, index, dtype, verify_integrity, typ, consolidate)\u001b[0m\n\u001b[1;32m    115\u001b[0m \u001b[39mif\u001b[39;00m verify_integrity:\n\u001b[1;32m    116\u001b[0m     \u001b[39m# figure out the index, if necessary\u001b[39;00m\n\u001b[1;32m    117\u001b[0m     \u001b[39mif\u001b[39;00m index \u001b[39mis\u001b[39;00m \u001b[39mNone\u001b[39;00m:\n\u001b[0;32m--> 118\u001b[0m         index \u001b[39m=\u001b[39m _extract_index(arrays)\n\u001b[1;32m    119\u001b[0m     \u001b[39melse\u001b[39;00m:\n\u001b[1;32m    120\u001b[0m         index \u001b[39m=\u001b[39m ensure_index(index)\n",
      "File \u001b[0;32m~/Desktop/python_QUANT/QUANT_venv/lib/python3.11/site-packages/pandas/core/internals/construction.py:656\u001b[0m, in \u001b[0;36m_extract_index\u001b[0;34m(data)\u001b[0m\n\u001b[1;32m    653\u001b[0m         \u001b[39mraise\u001b[39;00m \u001b[39mValueError\u001b[39;00m(\u001b[39m\"\u001b[39m\u001b[39mPer-column arrays must each be 1-dimensional\u001b[39m\u001b[39m\"\u001b[39m)\n\u001b[1;32m    655\u001b[0m \u001b[39mif\u001b[39;00m \u001b[39mnot\u001b[39;00m indexes \u001b[39mand\u001b[39;00m \u001b[39mnot\u001b[39;00m raw_lengths:\n\u001b[0;32m--> 656\u001b[0m     \u001b[39mraise\u001b[39;00m \u001b[39mValueError\u001b[39;00m(\u001b[39m\"\u001b[39m\u001b[39mIf using all scalar values, you must pass an index\u001b[39m\u001b[39m\"\u001b[39m)\n\u001b[1;32m    658\u001b[0m \u001b[39melif\u001b[39;00m have_series:\n\u001b[1;32m    659\u001b[0m     index \u001b[39m=\u001b[39m union_indexes(indexes)\n",
      "\u001b[0;31mValueError\u001b[0m: If using all scalar values, you must pass an index"
     ]
    }
   ],
   "source": [
    "hist_data_df = pd.DataFrame.from_dict(ticker_data)\n",
    "\n",
    "hist_data_df.head(4)"
   ]
  },
  {
   "cell_type": "code",
   "execution_count": 2,
   "metadata": {},
   "outputs": [
    {
     "name": "stdout",
     "output_type": "stream",
     "text": [
      "sk_fde8adc0215b402b9f770f220a412635\n"
     ]
    }
   ],
   "source": [
    "# set iex cloud api key\n",
    "# print(IEX_CLOUD_API_KEY)\n",
    "\n",
    "# create the client object\n",
    "client = Client(api_key=IEX_CLOUD_API_KEY)\n",
    "\n",
    "# use the ticker function to request ticker data for a symbol"
   ]
  },
  {
   "cell_type": "code",
   "execution_count": 2,
   "metadata": {},
   "outputs": [],
   "source": [
    "# get NASDAQ composite index data\n",
    "nasdaq = yf.Ticker(\"^IXIC\")\n",
    "nasdaq_info = nasdaq.info\n",
    "nasdaq_close = nasdaq_info['regularMarketPrice']"
   ]
  },
  {
   "cell_type": "code",
   "execution_count": 3,
   "metadata": {},
   "outputs": [
    {
     "data": {
      "text/plain": [
       "['AACG', 'AACI', 'AACIU', 'AACIW', 'AADI']"
      ]
     },
     "execution_count": 3,
     "metadata": {},
     "output_type": "execute_result"
    }
   ],
   "source": [
    "# get a list of all the nasdaq stocks\n",
    "tickers = si.tickers_nasdaq()\n",
    "\n",
    "tickers[:5]\n",
    "# sm_tickers = tickers[:25]"
   ]
  },
  {
   "cell_type": "code",
   "execution_count": 22,
   "metadata": {},
   "outputs": [
    {
     "data": {
      "text/plain": [
       "10386.984"
      ]
     },
     "execution_count": 22,
     "metadata": {},
     "output_type": "execute_result"
    }
   ],
   "source": [
    "nasdaq_close"
   ]
  },
  {
   "cell_type": "code",
   "execution_count": 4,
   "metadata": {},
   "outputs": [],
   "source": [
    "# small tickers list - TESTING\n",
    "sm_tickers = ['TSLA', 'PLTR', 'NOW']"
   ]
  },
  {
   "cell_type": "code",
   "execution_count": 5,
   "metadata": {},
   "outputs": [
    {
     "name": "stdout",
     "output_type": "stream",
     "text": [
      "{TICKER}: No data found, symbol may be delisted\n"
     ]
    },
    {
     "ename": "IndexError",
     "evalue": "index -1 is out of bounds for axis 0 with size 0",
     "output_type": "error",
     "traceback": [
      "\u001b[0;31m---------------------------------------------------------------------------\u001b[0m",
      "\u001b[0;31mIndexError\u001b[0m                                Traceback (most recent call last)",
      "Cell \u001b[0;32mIn[5], line 14\u001b[0m\n\u001b[1;32m     12\u001b[0m nasdaq_df[\u001b[39m'\u001b[39m\u001b[39mPct CHG\u001b[39m\u001b[39m'\u001b[39m] \u001b[39m=\u001b[39m nasdaq_df[\u001b[39m'\u001b[39m\u001b[39mClose\u001b[39m\u001b[39m'\u001b[39m]\u001b[39m.\u001b[39mpct_change()\n\u001b[1;32m     13\u001b[0m \u001b[39m# take the last value [-1]\u001b[39;00m\n\u001b[0;32m---> 14\u001b[0m stock_return \u001b[39m=\u001b[39m (nasdaq_df[\u001b[39m'\u001b[39;49m\u001b[39mPct CHG\u001b[39;49m\u001b[39m'\u001b[39;49m]\u001b[39m+\u001b[39;49m\u001b[39m1\u001b[39;49m)\u001b[39m.\u001b[39;49mcumprod()[\u001b[39m-\u001b[39;49m\u001b[39m1\u001b[39;49m]\n\u001b[1;32m     16\u001b[0m \u001b[39m# compare stock to nasdaq\u001b[39;00m\n\u001b[1;32m     17\u001b[0m returns_compared \u001b[39m=\u001b[39m \u001b[39mround\u001b[39m((stock_return \u001b[39m/\u001b[39m nasdaq_close), \u001b[39m2\u001b[39m)\n",
      "File \u001b[0;32m~/Desktop/python_QUANT/QUANT_venv/lib/python3.11/site-packages/pandas/core/series.py:978\u001b[0m, in \u001b[0;36mSeries.__getitem__\u001b[0;34m(self, key)\u001b[0m\n\u001b[1;32m    975\u001b[0m     key \u001b[39m=\u001b[39m unpack_1tuple(key)\n\u001b[1;32m    977\u001b[0m \u001b[39mif\u001b[39;00m is_integer(key) \u001b[39mand\u001b[39;00m \u001b[39mself\u001b[39m\u001b[39m.\u001b[39mindex\u001b[39m.\u001b[39m_should_fallback_to_positional:\n\u001b[0;32m--> 978\u001b[0m     \u001b[39mreturn\u001b[39;00m \u001b[39mself\u001b[39;49m\u001b[39m.\u001b[39;49m_values[key]\n\u001b[1;32m    980\u001b[0m \u001b[39melif\u001b[39;00m key_is_scalar:\n\u001b[1;32m    981\u001b[0m     \u001b[39mreturn\u001b[39;00m \u001b[39mself\u001b[39m\u001b[39m.\u001b[39m_get_value(key)\n",
      "\u001b[0;31mIndexError\u001b[0m: index -1 is out of bounds for axis 0 with size 0"
     ]
    }
   ],
   "source": [
    "# create an empty list to append later\n",
    "return_list = []\n",
    "# tsla = yf.Ticker('TSLA')\n",
    "# tesla_info = tsla.info\n",
    "# print(tesla_info)\n",
    "\n",
    "# for ticker in sm_tickers:\n",
    "#     ticker = yf.Ticker('{ticker}')\n",
    "#     nasdaq_df = ticker.history(period='6mo')\n",
    "#     # nasdaq_df.to_csv(f'stock_data/{ticker}.csv')\n",
    "#     # calculate %CHG\n",
    "#     nasdaq_df['Pct CHG'] = nasdaq_df['Close'].pct_change()\n",
    "#     # take the last value [-1]\n",
    "#     stock_return = (nasdaq_df['Pct CHG']+1).cumprod()[-1]\n",
    "\n",
    "#     # compare stock to nasdaq\n",
    "#     returns_compared = round((stock_return / nasdaq_close), 2)\n",
    "#     return_list.append(returns_compared)\n",
    "\n",
    "# print(return_list)"
   ]
  },
  {
   "cell_type": "code",
   "execution_count": null,
   "metadata": {},
   "outputs": [],
   "source": []
  }
 ],
 "metadata": {
  "kernelspec": {
   "display_name": "QUANT_venv",
   "language": "python",
   "name": "python3"
  },
  "language_info": {
   "codemirror_mode": {
    "name": "ipython",
    "version": 3
   },
   "file_extension": ".py",
   "mimetype": "text/x-python",
   "name": "python",
   "nbconvert_exporter": "python",
   "pygments_lexer": "ipython3",
   "version": "3.11.1"
  },
  "orig_nbformat": 4,
  "vscode": {
   "interpreter": {
    "hash": "8597a229a971d23d1a903db2d230e1e39715ab21d9d7046e5d7856f957930633"
   }
  }
 },
 "nbformat": 4,
 "nbformat_minor": 2
}
